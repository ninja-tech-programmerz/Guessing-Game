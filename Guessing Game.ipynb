{
 "cells": [
  {
   "cell_type": "markdown",
   "id": "798ce32d",
   "metadata": {},
   "source": [
    "## Importing The Modules"
   ]
  },
  {
   "cell_type": "code",
   "execution_count": 1,
   "id": "5765f522",
   "metadata": {},
   "outputs": [],
   "source": [
    "import random"
   ]
  },
  {
   "cell_type": "markdown",
   "id": "e989aeee",
   "metadata": {},
   "source": [
    "## Build The Project\n",
    "### Random Generators"
   ]
  },
  {
   "cell_type": "code",
   "execution_count": 2,
   "id": "ea813e7f",
   "metadata": {},
   "outputs": [],
   "source": [
    "true_number = random.randint(1, 49)"
   ]
  },
  {
   "cell_type": "code",
   "execution_count": 3,
   "id": "c3011ce7",
   "metadata": {},
   "outputs": [
    {
     "data": {
      "text/plain": [
       "14"
      ]
     },
     "execution_count": 3,
     "metadata": {},
     "output_type": "execute_result"
    }
   ],
   "source": [
    "true_number"
   ]
  },
  {
   "cell_type": "markdown",
   "id": "fd22e978",
   "metadata": {},
   "source": [
    "### Guessing Numbers (By The User)"
   ]
  },
  {
   "cell_type": "code",
   "execution_count": 4,
   "id": "d1696c7c",
   "metadata": {},
   "outputs": [
    {
     "name": "stdout",
     "output_type": "stream",
     "text": [
      "Enter your guess between 1 to 49: 15\n"
     ]
    }
   ],
   "source": [
    "guess_number = int(input(\"Enter your guess between 1 to 49: \"))"
   ]
  },
  {
   "cell_type": "markdown",
   "id": "889c570a",
   "metadata": {},
   "source": [
    "### This Project's Backend (Main Flow)"
   ]
  },
  {
   "cell_type": "code",
   "execution_count": 5,
   "id": "e5b28246",
   "metadata": {},
   "outputs": [
    {
     "name": "stdout",
     "output_type": "stream",
     "text": [
      "You'r Guess is Higher than the generated number (Try Again)! \n",
      "Enter your guess between 1 to 49: 13\n",
      "You'r Guess is lower than the generated number (Try Again)! \n",
      "Enter your guess between 1 to 49: 14\n",
      "You'r Right! Good Job\n"
     ]
    }
   ],
   "source": [
    "while True:\n",
    "    if guess_number == true_number:\n",
    "        print(\"You'r Right! Good Job\")\n",
    "        break\n",
    "        \n",
    "    elif guess_number < true_number:\n",
    "        print(\"You'r Guess is lower than the generated number (Try Again)! \")\n",
    "        guess_number = int(input(\"Enter your guess between 1 to 49: \"))\n",
    "        \n",
    "    elif guess_number > true_number:\n",
    "        print(\"You'r Guess is Higher than the generated number (Try Again)! \")\n",
    "        guess_number = int(input(\"Enter your guess between 1 to 49: \"))"
   ]
  },
  {
   "cell_type": "code",
   "execution_count": null,
   "id": "36706913",
   "metadata": {},
   "outputs": [],
   "source": []
  }
 ],
 "metadata": {
  "kernelspec": {
   "display_name": "Python 3",
   "language": "python",
   "name": "python3"
  },
  "language_info": {
   "codemirror_mode": {
    "name": "ipython",
    "version": 3
   },
   "file_extension": ".py",
   "mimetype": "text/x-python",
   "name": "python",
   "nbconvert_exporter": "python",
   "pygments_lexer": "ipython3",
   "version": "3.9.5"
  }
 },
 "nbformat": 4,
 "nbformat_minor": 5
}
